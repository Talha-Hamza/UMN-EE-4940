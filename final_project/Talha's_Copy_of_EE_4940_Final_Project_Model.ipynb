{
  "cells": [
    {
      "cell_type": "markdown",
      "metadata": {
        "id": "dbpESAhiV8bS"
      },
      "source": [
        "### Clean and Load Input Data and Labels\n",
        "This section takes in the input data from the csv files, cleans the data,\n",
        " and loads them into a more manageable dataframe.\n",
        "\n"
      ]
    },
    {
      "cell_type": "code",
      "execution_count": null,
      "metadata": {
        "colab": {
          "base_uri": "https://localhost:8080/",
          "height": 374
        },
        "id": "ulNbYeuVeYf7",
        "outputId": "5167a454-4f14-415e-8d62-548bcae2b1d6"
      },
      "outputs": [
        {
          "output_type": "stream",
          "name": "stdout",
          "text": [
            "Drive already mounted at /content/drive; to attempt to forcibly remount, call drive.mount(\"/content/drive\", force_remount=True).\n"
          ]
        },
        {
          "output_type": "error",
          "ename": "KeyError",
          "evalue": "\"['ID_test'] not in index\"",
          "traceback": [
            "\u001b[0;31m---------------------------------------------------------------------------\u001b[0m",
            "\u001b[0;31mKeyError\u001b[0m                                  Traceback (most recent call last)",
            "\u001b[0;32m<ipython-input-12-ee34fc727f54>\u001b[0m in \u001b[0;36m<cell line: 0>\u001b[0;34m()\u001b[0m\n\u001b[1;32m     20\u001b[0m \u001b[0;31m# Filter the labels to only include ones that have less than 800 difference and are not blank\u001b[0m\u001b[0;34m\u001b[0m\u001b[0;34m\u001b[0m\u001b[0m\n\u001b[1;32m     21\u001b[0m \u001b[0mlabelsDf\u001b[0m \u001b[0;34m=\u001b[0m \u001b[0mlabelsDf\u001b[0m\u001b[0;34m[\u001b[0m\u001b[0;34m(\u001b[0m\u001b[0mlabelsDf\u001b[0m\u001b[0;34m[\u001b[0m\u001b[0;34m'difference'\u001b[0m\u001b[0;34m]\u001b[0m \u001b[0;34m<=\u001b[0m \u001b[0;36m800\u001b[0m\u001b[0;34m)\u001b[0m \u001b[0;34m&\u001b[0m \u001b[0;34m(\u001b[0m\u001b[0;34m~\u001b[0m\u001b[0mlabelsDf\u001b[0m\u001b[0;34m[\u001b[0m\u001b[0;34m'difference'\u001b[0m\u001b[0;34m]\u001b[0m\u001b[0;34m.\u001b[0m\u001b[0misna\u001b[0m\u001b[0;34m(\u001b[0m\u001b[0;34m)\u001b[0m\u001b[0;34m)\u001b[0m\u001b[0;34m]\u001b[0m\u001b[0;34m\u001b[0m\u001b[0;34m\u001b[0m\u001b[0m\n\u001b[0;32m---> 22\u001b[0;31m \u001b[0mlabelsDf\u001b[0m \u001b[0;34m=\u001b[0m \u001b[0mlabelsDf\u001b[0m\u001b[0;34m[\u001b[0m\u001b[0;34m[\u001b[0m\u001b[0;34m'ID_test'\u001b[0m\u001b[0;34m,\u001b[0m \u001b[0;34m'Average'\u001b[0m\u001b[0;34m]\u001b[0m\u001b[0;34m]\u001b[0m\u001b[0;34m\u001b[0m\u001b[0;34m\u001b[0m\u001b[0m\n\u001b[0m\u001b[1;32m     23\u001b[0m \u001b[0;34m\u001b[0m\u001b[0m\n\u001b[1;32m     24\u001b[0m \u001b[0;31m# Filter and Clean the input data\u001b[0m\u001b[0;34m\u001b[0m\u001b[0;34m\u001b[0m\u001b[0m\n",
            "\u001b[0;32m/usr/local/lib/python3.11/dist-packages/pandas/core/frame.py\u001b[0m in \u001b[0;36m__getitem__\u001b[0;34m(self, key)\u001b[0m\n\u001b[1;32m   4106\u001b[0m             \u001b[0;32mif\u001b[0m \u001b[0mis_iterator\u001b[0m\u001b[0;34m(\u001b[0m\u001b[0mkey\u001b[0m\u001b[0;34m)\u001b[0m\u001b[0;34m:\u001b[0m\u001b[0;34m\u001b[0m\u001b[0;34m\u001b[0m\u001b[0m\n\u001b[1;32m   4107\u001b[0m                 \u001b[0mkey\u001b[0m \u001b[0;34m=\u001b[0m \u001b[0mlist\u001b[0m\u001b[0;34m(\u001b[0m\u001b[0mkey\u001b[0m\u001b[0;34m)\u001b[0m\u001b[0;34m\u001b[0m\u001b[0;34m\u001b[0m\u001b[0m\n\u001b[0;32m-> 4108\u001b[0;31m             \u001b[0mindexer\u001b[0m \u001b[0;34m=\u001b[0m \u001b[0mself\u001b[0m\u001b[0;34m.\u001b[0m\u001b[0mcolumns\u001b[0m\u001b[0;34m.\u001b[0m\u001b[0m_get_indexer_strict\u001b[0m\u001b[0;34m(\u001b[0m\u001b[0mkey\u001b[0m\u001b[0;34m,\u001b[0m \u001b[0;34m\"columns\"\u001b[0m\u001b[0;34m)\u001b[0m\u001b[0;34m[\u001b[0m\u001b[0;36m1\u001b[0m\u001b[0;34m]\u001b[0m\u001b[0;34m\u001b[0m\u001b[0;34m\u001b[0m\u001b[0m\n\u001b[0m\u001b[1;32m   4109\u001b[0m \u001b[0;34m\u001b[0m\u001b[0m\n\u001b[1;32m   4110\u001b[0m         \u001b[0;31m# take() does not accept boolean indexers\u001b[0m\u001b[0;34m\u001b[0m\u001b[0;34m\u001b[0m\u001b[0m\n",
            "\u001b[0;32m/usr/local/lib/python3.11/dist-packages/pandas/core/indexes/base.py\u001b[0m in \u001b[0;36m_get_indexer_strict\u001b[0;34m(self, key, axis_name)\u001b[0m\n\u001b[1;32m   6198\u001b[0m             \u001b[0mkeyarr\u001b[0m\u001b[0;34m,\u001b[0m \u001b[0mindexer\u001b[0m\u001b[0;34m,\u001b[0m \u001b[0mnew_indexer\u001b[0m \u001b[0;34m=\u001b[0m \u001b[0mself\u001b[0m\u001b[0;34m.\u001b[0m\u001b[0m_reindex_non_unique\u001b[0m\u001b[0;34m(\u001b[0m\u001b[0mkeyarr\u001b[0m\u001b[0;34m)\u001b[0m\u001b[0;34m\u001b[0m\u001b[0;34m\u001b[0m\u001b[0m\n\u001b[1;32m   6199\u001b[0m \u001b[0;34m\u001b[0m\u001b[0m\n\u001b[0;32m-> 6200\u001b[0;31m         \u001b[0mself\u001b[0m\u001b[0;34m.\u001b[0m\u001b[0m_raise_if_missing\u001b[0m\u001b[0;34m(\u001b[0m\u001b[0mkeyarr\u001b[0m\u001b[0;34m,\u001b[0m \u001b[0mindexer\u001b[0m\u001b[0;34m,\u001b[0m \u001b[0maxis_name\u001b[0m\u001b[0;34m)\u001b[0m\u001b[0;34m\u001b[0m\u001b[0;34m\u001b[0m\u001b[0m\n\u001b[0m\u001b[1;32m   6201\u001b[0m \u001b[0;34m\u001b[0m\u001b[0m\n\u001b[1;32m   6202\u001b[0m         \u001b[0mkeyarr\u001b[0m \u001b[0;34m=\u001b[0m \u001b[0mself\u001b[0m\u001b[0;34m.\u001b[0m\u001b[0mtake\u001b[0m\u001b[0;34m(\u001b[0m\u001b[0mindexer\u001b[0m\u001b[0;34m)\u001b[0m\u001b[0;34m\u001b[0m\u001b[0;34m\u001b[0m\u001b[0m\n",
            "\u001b[0;32m/usr/local/lib/python3.11/dist-packages/pandas/core/indexes/base.py\u001b[0m in \u001b[0;36m_raise_if_missing\u001b[0;34m(self, key, indexer, axis_name)\u001b[0m\n\u001b[1;32m   6250\u001b[0m \u001b[0;34m\u001b[0m\u001b[0m\n\u001b[1;32m   6251\u001b[0m             \u001b[0mnot_found\u001b[0m \u001b[0;34m=\u001b[0m \u001b[0mlist\u001b[0m\u001b[0;34m(\u001b[0m\u001b[0mensure_index\u001b[0m\u001b[0;34m(\u001b[0m\u001b[0mkey\u001b[0m\u001b[0;34m)\u001b[0m\u001b[0;34m[\u001b[0m\u001b[0mmissing_mask\u001b[0m\u001b[0;34m.\u001b[0m\u001b[0mnonzero\u001b[0m\u001b[0;34m(\u001b[0m\u001b[0;34m)\u001b[0m\u001b[0;34m[\u001b[0m\u001b[0;36m0\u001b[0m\u001b[0;34m]\u001b[0m\u001b[0;34m]\u001b[0m\u001b[0;34m.\u001b[0m\u001b[0munique\u001b[0m\u001b[0;34m(\u001b[0m\u001b[0;34m)\u001b[0m\u001b[0;34m)\u001b[0m\u001b[0;34m\u001b[0m\u001b[0;34m\u001b[0m\u001b[0m\n\u001b[0;32m-> 6252\u001b[0;31m             \u001b[0;32mraise\u001b[0m \u001b[0mKeyError\u001b[0m\u001b[0;34m(\u001b[0m\u001b[0;34mf\"{not_found} not in index\"\u001b[0m\u001b[0;34m)\u001b[0m\u001b[0;34m\u001b[0m\u001b[0;34m\u001b[0m\u001b[0m\n\u001b[0m\u001b[1;32m   6253\u001b[0m \u001b[0;34m\u001b[0m\u001b[0m\n\u001b[1;32m   6254\u001b[0m     \u001b[0;34m@\u001b[0m\u001b[0moverload\u001b[0m\u001b[0;34m\u001b[0m\u001b[0;34m\u001b[0m\u001b[0m\n",
            "\u001b[0;31mKeyError\u001b[0m: \"['ID_test'] not in index\""
          ]
        }
      ],
      "source": [
        "import pandas as pd\n",
        "import numpy as np\n",
        "from google.colab import drive\n",
        "import torch.nn as nn\n",
        "import matplotlib.pyplot as plt\n",
        "from tqdm import tqdm\n",
        "import torch\n",
        "from sklearn.model_selection import train_test_split\n",
        "from torch.utils.data import DataLoader, Dataset, Subset\n",
        "\n",
        "\n",
        "drive.mount('/content/drive')\n",
        "\n",
        "inputDataDf = pd.read_csv('/content/test_measure.csv')\n",
        "subjectInfoDf = pd.read_csv('/content/subject-info.csv')\n",
        "\n",
        "labelsDf = pd.read_csv('/content/annotated_vt_results.csv')\n",
        "\n",
        "\n",
        "# Filter the labels to only include ones that have less than 800 difference and are not blank\n",
        "labelsDf = labelsDf[(labelsDf['difference'] <= 800) & (~labelsDf['difference'].isna())]\n",
        "labelsDf = labelsDf[['ID_test', 'Average']]\n",
        "\n",
        "# Filter and Clean the input data\n",
        "inputDataDf = inputDataDf[inputDataDf['ID_test'].isin(labelsDf['ID_test'])]\n",
        "inputDataDf = inputDataDf.dropna(subset=['HR'])\n",
        "timeIncludedDf = inputDataDf.groupby('ID_test')['time'].apply(list).reset_index()\n",
        "heartRateDf = inputDataDf.groupby('ID_test')['HR'].apply(list).reset_index()\n",
        "\n",
        "inputDataDf = pd.merge(timeIncludedDf, heartRateDf, on='ID_test', how='inner')\n",
        "\n",
        "# Sort the input data\n",
        "inputDataDf[['part1', 'part2']] = inputDataDf['ID_test'].str.split('_', expand=True)\n",
        "inputDataDf['part1'] = inputDataDf['part1'].astype(int)\n",
        "inputDataDf['part2'] = inputDataDf['part2'].astype(int)\n",
        "inputDataDf = inputDataDf.sort_values(by=['part1', 'part2'])\n",
        "inputDataDf = inputDataDf.drop(columns=['part1', 'part2'])\n",
        "\n",
        "subjectInfoDf = subjectInfoDf[subjectInfoDf['ID_test'].isin(labelsDf['ID_test'])]\n",
        "subjectInfoDf = subjectInfoDf[['ID_test', 'Age', 'Weight', 'Height', 'Sex']]\n",
        "\n",
        "paired_df = pd.merge(inputDataDf, subjectInfoDf, on='ID_test', how='inner')\n",
        "paired_df = pd.merge(paired_df, labelsDf, on='ID_test', how='inner')\n",
        "# print(inputDataDf)\n",
        "# print(labelsDf)\n",
        "print(paired_df)\n"
      ]
    },
    {
      "cell_type": "markdown",
      "metadata": {
        "id": "qP2kpQlzkiYd"
      },
      "source": [
        "### Data Set"
      ]
    },
    {
      "cell_type": "code",
      "execution_count": null,
      "metadata": {
        "id": "nbI98siakh3k"
      },
      "outputs": [],
      "source": [
        "class VTDataset(Dataset):\n",
        "    def __init__(self, df):\n",
        "        self.df = df\n",
        "        self.hr_seqs = []\n",
        "        self.static_feats = []\n",
        "        self.targets = []\n",
        "\n",
        "        for idx, row in df.iterrows():\n",
        "            hr_array = np.array(row['HR'], dtype=np.float32)  # Heart rate sequence\n",
        "            hr_array = hr_array.reshape(-1, 1)  # (sequence_length, 1)\n",
        "\n",
        "            static = np.array([row['Age'], row['Weight'], row['Height'], row['Sex']], dtype=np.float32)\n",
        "\n",
        "            self.hr_seqs.append(hr_array)\n",
        "            self.static_feats.append(static)\n",
        "            self.targets.append(row['Average'])\n",
        "\n",
        "    def __len__(self):\n",
        "        return len(self.df)\n",
        "\n",
        "    def __getitem__(self, idx):\n",
        "        hr_seq = torch.tensor(self.hr_seqs[idx], dtype=torch.float32)\n",
        "        static_feat = torch.tensor(self.static_feats[idx], dtype=torch.float32)\n",
        "        target = torch.tensor(self.targets[idx], dtype=torch.float32)\n",
        "\n",
        "        return hr_seq, static_feat, target\n",
        "\n"
      ]
    },
    {
      "cell_type": "markdown",
      "metadata": {
        "id": "JTEzEx9ik8Hg"
      },
      "source": [
        "### Model Definition"
      ]
    },
    {
      "cell_type": "code",
      "execution_count": null,
      "metadata": {
        "id": "5NgicvaTk_tG"
      },
      "outputs": [],
      "source": [
        "class VTLSTMPrediction(nn.Module):\n",
        "    def __init__(self, static_input_size, hr_input_size=1, lstm_hidden_size=64, lstm_num_layers=1):\n",
        "        super(VTLSTMPrediction, self).__init__()\n",
        "\n",
        "        # LSTM for heart rate time series\n",
        "        self.lstm = nn.LSTM(input_size=hr_input_size, hidden_size=lstm_hidden_size,\n",
        "                            num_layers=lstm_num_layers, batch_first=True)\n",
        "\n",
        "        # FC layer after LSTM\n",
        "        self.fc1 = nn.Linear(lstm_hidden_size + static_input_size, 64)\n",
        "        self.fc2 = nn.Linear(64, 1)\n",
        "\n",
        "    def forward(self, hr_seq, static_features):\n",
        "        # hr_seq shape: (batch, sequence_len, 1)\n",
        "        # static_features shape: (batch, 4)\n",
        "\n",
        "        lstm_out, _ = self.lstm(hr_seq)  # lstm_out shape: (batch, sequence_len, hidden_size)\n",
        "        lstm_last_output = lstm_out[:, -1, :]  # Take the last output (many strategies possible)\n",
        "\n",
        "        combined = torch.cat((lstm_last_output, static_features), dim=1)  # (batch, hidden_size + 4)\n",
        "\n",
        "        x = torch.relu(self.fc1(combined))\n",
        "        output = self.fc2(x).squeeze(1)  # (batch,)\n",
        "        return output\n",
        "\n"
      ]
    },
    {
      "cell_type": "markdown",
      "metadata": {
        "id": "OyiPbpShlb6g"
      },
      "source": [
        "### Model Training"
      ]
    },
    {
      "cell_type": "code",
      "execution_count": null,
      "metadata": {
        "colab": {
          "base_uri": "https://localhost:8080/"
        },
        "id": "G4CAASSLldq6",
        "outputId": "d939607a-e379-4fab-cb3f-be76ad2a821c"
      },
      "outputs": [
        {
          "output_type": "stream",
          "name": "stderr",
          "text": [
            "Training Epoch 1/20: 100%|██████████| 38/38 [00:00<00:00, 140.43batch/s]\n",
            "Validation Epoch 1/20: 100%|██████████| 9/9 [00:00<00:00, 325.29batch/s]\n"
          ]
        },
        {
          "output_type": "stream",
          "name": "stdout",
          "text": [
            "\tTrain Loss: 3993141.7303\n",
            "\tEval Loss : 4259096.9444\n"
          ]
        },
        {
          "output_type": "stream",
          "name": "stderr",
          "text": [
            "Training Epoch 2/20: 100%|██████████| 38/38 [00:00<00:00, 199.91batch/s]\n",
            "Validation Epoch 2/20: 100%|██████████| 9/9 [00:00<00:00, 418.39batch/s]\n"
          ]
        },
        {
          "output_type": "stream",
          "name": "stdout",
          "text": [
            "\tTrain Loss: 3792914.2303\n",
            "\tEval Loss : 3997006.1667\n"
          ]
        },
        {
          "output_type": "stream",
          "name": "stderr",
          "text": [
            "Training Epoch 3/20: 100%|██████████| 38/38 [00:00<00:00, 202.29batch/s]\n",
            "Validation Epoch 3/20: 100%|██████████| 9/9 [00:00<00:00, 396.63batch/s]\n"
          ]
        },
        {
          "output_type": "stream",
          "name": "stdout",
          "text": [
            "\tTrain Loss: 3472784.8947\n",
            "\tEval Loss : 3575597.0278\n"
          ]
        },
        {
          "output_type": "stream",
          "name": "stderr",
          "text": [
            "Training Epoch 4/20: 100%|██████████| 38/38 [00:00<00:00, 225.90batch/s]\n",
            "Validation Epoch 4/20: 100%|██████████| 9/9 [00:00<00:00, 425.12batch/s]\n"
          ]
        },
        {
          "output_type": "stream",
          "name": "stdout",
          "text": [
            "\tTrain Loss: 2992336.8158\n",
            "\tEval Loss : 3005251.9722\n"
          ]
        },
        {
          "output_type": "stream",
          "name": "stderr",
          "text": [
            "Training Epoch 5/20: 100%|██████████| 38/38 [00:00<00:00, 214.66batch/s]\n",
            "Validation Epoch 5/20: 100%|██████████| 9/9 [00:00<00:00, 402.07batch/s]\n"
          ]
        },
        {
          "output_type": "stream",
          "name": "stdout",
          "text": [
            "\tTrain Loss: 2416864.5263\n",
            "\tEval Loss : 2366151.3333\n"
          ]
        },
        {
          "output_type": "stream",
          "name": "stderr",
          "text": [
            "Training Epoch 6/20: 100%|██████████| 38/38 [00:00<00:00, 202.16batch/s]\n",
            "Validation Epoch 6/20: 100%|██████████| 9/9 [00:00<00:00, 448.50batch/s]\n"
          ]
        },
        {
          "output_type": "stream",
          "name": "stdout",
          "text": [
            "\tTrain Loss: 1833329.3207\n",
            "\tEval Loss : 1768915.4722\n"
          ]
        },
        {
          "output_type": "stream",
          "name": "stderr",
          "text": [
            "Training Epoch 7/20: 100%|██████████| 38/38 [00:00<00:00, 218.25batch/s]\n",
            "Validation Epoch 7/20: 100%|██████████| 9/9 [00:00<00:00, 391.20batch/s]\n"
          ]
        },
        {
          "output_type": "stream",
          "name": "stdout",
          "text": [
            "\tTrain Loss: 1324169.6891\n",
            "\tEval Loss : 1282714.4097\n"
          ]
        },
        {
          "output_type": "stream",
          "name": "stderr",
          "text": [
            "Training Epoch 8/20: 100%|██████████| 38/38 [00:00<00:00, 213.16batch/s]\n",
            "Validation Epoch 8/20: 100%|██████████| 9/9 [00:00<00:00, 436.98batch/s]\n"
          ]
        },
        {
          "output_type": "stream",
          "name": "stdout",
          "text": [
            "\tTrain Loss: 940573.1077\n",
            "\tEval Loss : 932173.7986\n"
          ]
        },
        {
          "output_type": "stream",
          "name": "stderr",
          "text": [
            "Training Epoch 9/20: 100%|██████████| 38/38 [00:00<00:00, 223.38batch/s]\n",
            "Validation Epoch 9/20: 100%|██████████| 9/9 [00:00<00:00, 437.41batch/s]\n"
          ]
        },
        {
          "output_type": "stream",
          "name": "stdout",
          "text": [
            "\tTrain Loss: 699911.6780\n",
            "\tEval Loss : 728010.0000\n"
          ]
        },
        {
          "output_type": "stream",
          "name": "stderr",
          "text": [
            "Training Epoch 10/20: 100%|██████████| 38/38 [00:00<00:00, 209.18batch/s]\n",
            "Validation Epoch 10/20: 100%|██████████| 9/9 [00:00<00:00, 308.58batch/s]\n"
          ]
        },
        {
          "output_type": "stream",
          "name": "stdout",
          "text": [
            "\tTrain Loss: 575982.7570\n",
            "\tEval Loss : 623220.1910\n"
          ]
        },
        {
          "output_type": "stream",
          "name": "stderr",
          "text": [
            "Training Epoch 11/20: 100%|██████████| 38/38 [00:00<00:00, 193.33batch/s]\n",
            "Validation Epoch 11/20: 100%|██████████| 9/9 [00:00<00:00, 481.30batch/s]\n"
          ]
        },
        {
          "output_type": "stream",
          "name": "stdout",
          "text": [
            "\tTrain Loss: 530549.6447\n",
            "\tEval Loss : 594969.4097\n"
          ]
        },
        {
          "output_type": "stream",
          "name": "stderr",
          "text": [
            "Training Epoch 12/20: 100%|██████████| 38/38 [00:00<00:00, 194.74batch/s]\n",
            "Validation Epoch 12/20: 100%|██████████| 9/9 [00:00<00:00, 443.86batch/s]\n"
          ]
        },
        {
          "output_type": "stream",
          "name": "stdout",
          "text": [
            "\tTrain Loss: 514392.0609\n",
            "\tEval Loss : 577234.3403\n"
          ]
        },
        {
          "output_type": "stream",
          "name": "stderr",
          "text": [
            "Training Epoch 13/20: 100%|██████████| 38/38 [00:00<00:00, 194.71batch/s]\n",
            "Validation Epoch 13/20: 100%|██████████| 9/9 [00:00<00:00, 435.59batch/s]\n"
          ]
        },
        {
          "output_type": "stream",
          "name": "stdout",
          "text": [
            "\tTrain Loss: 503280.6003\n",
            "\tEval Loss : 566540.6701\n"
          ]
        },
        {
          "output_type": "stream",
          "name": "stderr",
          "text": [
            "Training Epoch 14/20: 100%|██████████| 38/38 [00:00<00:00, 186.81batch/s]\n",
            "Validation Epoch 14/20: 100%|██████████| 9/9 [00:00<00:00, 493.91batch/s]\n"
          ]
        },
        {
          "output_type": "stream",
          "name": "stdout",
          "text": [
            "\tTrain Loss: 499756.0345\n",
            "\tEval Loss : 557598.8542\n"
          ]
        },
        {
          "output_type": "stream",
          "name": "stderr",
          "text": [
            "Training Epoch 15/20: 100%|██████████| 38/38 [00:00<00:00, 287.80batch/s]\n",
            "Validation Epoch 15/20: 100%|██████████| 9/9 [00:00<00:00, 550.70batch/s]\n"
          ]
        },
        {
          "output_type": "stream",
          "name": "stdout",
          "text": [
            "\tTrain Loss: 496512.6579\n",
            "\tEval Loss : 552083.3264\n"
          ]
        },
        {
          "output_type": "stream",
          "name": "stderr",
          "text": [
            "Training Epoch 16/20: 100%|██████████| 38/38 [00:00<00:00, 261.61batch/s]\n",
            "Validation Epoch 16/20: 100%|██████████| 9/9 [00:00<00:00, 557.72batch/s]\n"
          ]
        },
        {
          "output_type": "stream",
          "name": "stdout",
          "text": [
            "\tTrain Loss: 495261.0559\n",
            "\tEval Loss : 549705.7396\n"
          ]
        },
        {
          "output_type": "stream",
          "name": "stderr",
          "text": [
            "Training Epoch 17/20: 100%|██████████| 38/38 [00:00<00:00, 286.59batch/s]\n",
            "Validation Epoch 17/20: 100%|██████████| 9/9 [00:00<00:00, 406.25batch/s]\n"
          ]
        },
        {
          "output_type": "stream",
          "name": "stdout",
          "text": [
            "\tTrain Loss: 494220.8035\n",
            "\tEval Loss : 548065.1806\n"
          ]
        },
        {
          "output_type": "stream",
          "name": "stderr",
          "text": [
            "Training Epoch 18/20: 100%|██████████| 38/38 [00:00<00:00, 272.37batch/s]\n",
            "Validation Epoch 18/20: 100%|██████████| 9/9 [00:00<00:00, 559.36batch/s]\n"
          ]
        },
        {
          "output_type": "stream",
          "name": "stdout",
          "text": [
            "\tTrain Loss: 494780.4827\n",
            "\tEval Loss : 545378.1597\n"
          ]
        },
        {
          "output_type": "stream",
          "name": "stderr",
          "text": [
            "Training Epoch 19/20: 100%|██████████| 38/38 [00:00<00:00, 277.71batch/s]\n",
            "Validation Epoch 19/20: 100%|██████████| 9/9 [00:00<00:00, 550.67batch/s]\n"
          ]
        },
        {
          "output_type": "stream",
          "name": "stdout",
          "text": [
            "\tTrain Loss: 493942.0419\n",
            "\tEval Loss : 545334.4306\n"
          ]
        },
        {
          "output_type": "stream",
          "name": "stderr",
          "text": [
            "Training Epoch 20/20: 100%|██████████| 38/38 [00:00<00:00, 293.36batch/s]\n",
            "Validation Epoch 20/20: 100%|██████████| 9/9 [00:00<00:00, 567.51batch/s]"
          ]
        },
        {
          "output_type": "stream",
          "name": "stdout",
          "text": [
            "\tTrain Loss: 493041.8232\n",
            "\tEval Loss : 543449.8924\n"
          ]
        },
        {
          "output_type": "stream",
          "name": "stderr",
          "text": [
            "\n"
          ]
        }
      ],
      "source": [
        "dataset = VTDataset(paired_df)\n",
        "\n",
        "\n",
        "# First, split indices for train/val/test\n",
        "indices = list(range(len(dataset)))\n",
        "train_idx, temp_idx = train_test_split(indices, test_size=0.3, random_state=42)  # 70% train, 30% temp\n",
        "val_idx, test_idx = train_test_split(temp_idx, test_size=0.5, random_state=42)    # 15% val, 15% test\n",
        "\n",
        "from torch.nn.utils.rnn import pad_sequence\n",
        "\n",
        "def collate_fn(batch):\n",
        "    hr_seqs, static_feats, targets = zip(*batch)  # unzip list of tuples\n",
        "\n",
        "    # Pad heart rate sequences\n",
        "    hr_seqs_padded = pad_sequence(hr_seqs, batch_first=True, padding_value=0.0)  # (batch, max_seq_len, 1)\n",
        "\n",
        "    static_feats = torch.stack(static_feats)\n",
        "    targets = torch.stack(targets)\n",
        "\n",
        "    return hr_seqs_padded, static_feats, targets\n",
        "\n",
        "batch_size = 16\n",
        "train_loader = DataLoader(Subset(dataset, train_idx), batch_size=batch_size, shuffle=True, collate_fn=collate_fn)\n",
        "val_loader = DataLoader(Subset(dataset, val_idx), batch_size=batch_size, shuffle=False, collate_fn=collate_fn)\n",
        "test_loader = DataLoader(Subset(dataset, test_idx), batch_size=batch_size, shuffle=False, collate_fn=collate_fn)\n",
        "\n",
        "\n",
        "# Initialize Model\n",
        "device = torch.device(\"cuda\" if torch.cuda.is_available() else \"cpu\")\n",
        "model = VTLSTMPrediction(static_input_size=4).to(device)\n",
        "\n",
        "# Optimizer and Loss\n",
        "optimizer = torch.optim.Adam(model.parameters(), lr=1e-3)\n",
        "scheduler = torch.optim.lr_scheduler.StepLR(optimizer, step_size=10, gamma=0.5)\n",
        "criterion = nn.MSELoss()\n",
        "\n",
        "\n",
        "num_epochs = 20\n",
        "\n",
        "train_loss_list = []\n",
        "eval_loss_list = []\n",
        "# --- Training and Validation ---\n",
        "for epoch in range(num_epochs):\n",
        "    model.train()\n",
        "    running_loss = 0.0\n",
        "    eval_loss = 0.0\n",
        "\n",
        "    # Training\n",
        "    with tqdm(train_loader, unit=\"batch\") as training_epoch:\n",
        "        training_epoch.set_description(f\"Training Epoch {epoch+1}/{num_epochs}\")\n",
        "        for hr_seq_batch, static_feat_batch, y_batch in training_epoch:\n",
        "            hr_seq_batch = hr_seq_batch.to(device)\n",
        "            static_feat_batch = static_feat_batch.to(device)\n",
        "            y_batch = y_batch.to(device)\n",
        "\n",
        "            optimizer.zero_grad()\n",
        "            outputs = model(hr_seq_batch, static_feat_batch)\n",
        "            loss = criterion(outputs, y_batch)\n",
        "            loss.backward()\n",
        "            optimizer.step()\n",
        "\n",
        "            running_loss += loss.item()\n",
        "\n",
        "    running_loss /= len(train_loader)\n",
        "    scheduler.step()\n",
        "\n",
        "    # Validation\n",
        "    model.eval()\n",
        "    with tqdm(val_loader, unit=\"batch\") as eval_epoch:\n",
        "        eval_epoch.set_description(f\"Validation Epoch {epoch+1}/{num_epochs}\")\n",
        "        for hr_seq_batch, static_feat_batch, y_batch in eval_epoch:\n",
        "            hr_seq_batch = hr_seq_batch.to(device)\n",
        "            static_feat_batch = static_feat_batch.to(device)\n",
        "            y_batch = y_batch.to(device)\n",
        "\n",
        "            with torch.no_grad():\n",
        "                outputs = model(hr_seq_batch, static_feat_batch)\n",
        "                loss = criterion(outputs, y_batch)\n",
        "                eval_loss += loss.item()\n",
        "\n",
        "    eval_loss /= len(val_loader)\n",
        "\n",
        "    # Logging\n",
        "    print(f'\\tTrain Loss: {running_loss:.4f}')\n",
        "    print(f'\\tEval Loss : {eval_loss:.4f}')\n",
        "    train_loss_list.append(running_loss)\n",
        "    eval_loss_list.append(eval_loss)"
      ]
    },
    {
      "cell_type": "markdown",
      "metadata": {
        "id": "RGVNblluqEhb"
      },
      "source": [
        "### Plot Training and Validation Error"
      ]
    },
    {
      "cell_type": "code",
      "execution_count": null,
      "metadata": {
        "colab": {
          "base_uri": "https://localhost:8080/",
          "height": 507
        },
        "id": "c7Z7mPf4qHxG",
        "outputId": "7bf84a72-a25b-4a7a-fb80-1279658b858a"
      },
      "outputs": [
        {
          "output_type": "display_data",
          "data": {
            "text/plain": [
              "<Figure size 800x500 with 1 Axes>"
            ],
            "image/png": "[encoded data removed]"
          },
          "metadata": {}
        }
      ],
      "source": [
        "epochs = range(1, len(train_loss_list) + 1)\n",
        "\n",
        "plt.figure(figsize=(8, 5))\n",
        "\n",
        "# Plot Loss\n",
        "plt.plot(epochs, train_loss_list, 'o-', label='Training Loss')\n",
        "plt.plot(epochs, eval_loss_list, 'o-', label='Validation Loss')\n",
        "plt.title('Loss Over Epochs (Regression)')\n",
        "plt.xlabel('Epoch')\n",
        "plt.ylabel('MSE Loss')\n",
        "plt.legend()\n",
        "plt.xticks(range(1, len(train_loss_list) + 1, 2))\n",
        "plt.grid(True)\n",
        "\n",
        "plt.tight_layout()\n",
        "plt.show()"
      ]
    },
    {
      "cell_type": "markdown",
      "metadata": {
        "id": "HWe_bJgbuWiu"
      },
      "source": [
        "### Model Testing"
      ]
    },
    {
      "cell_type": "code",
      "execution_count": null,
      "metadata": {
        "colab": {
          "base_uri": "https://localhost:8080/"
        },
        "id": "F_YjI2IIuYg5",
        "outputId": "ad5d5eff-982d-47f9-b417-89324955e52e"
      },
      "outputs": [
        {
          "output_type": "stream",
          "name": "stderr",
          "text": [
            "Testing: 100%|██████████| 9/9 [00:00<00:00, 372.59batch/s]"
          ]
        },
        {
          "output_type": "stream",
          "name": "stdout",
          "text": [
            "Final Test Loss: 506363.9132\n"
          ]
        },
        {
          "output_type": "stream",
          "name": "stderr",
          "text": [
            "\n"
          ]
        }
      ],
      "source": [
        "model.eval()\n",
        "test_loss = 0.0\n",
        "with tqdm(test_loader, unit=\"batch\") as test_epoch:\n",
        "    test_epoch.set_description(f\"Testing\")\n",
        "    for hr_seq_batch, static_feat_batch, y_batch in test_epoch:\n",
        "        hr_seq_batch = hr_seq_batch.to(device)\n",
        "        static_feat_batch = static_feat_batch.to(device)\n",
        "        y_batch = y_batch.to(device)\n",
        "\n",
        "        with torch.no_grad():\n",
        "            outputs = model(hr_seq_batch, static_feat_batch)\n",
        "            loss = criterion(outputs, y_batch)\n",
        "            test_loss += loss.item()\n",
        "\n",
        "test_loss /= len(test_loader)\n",
        "print(f\"Final Test Loss: {test_loss:.4f}\")"
      ]
    },
    {
      "cell_type": "code",
      "execution_count": null,
      "metadata": {
        "colab": {
          "base_uri": "https://localhost:8080/"
        },
        "id": "uWzSvS4Zswjb",
        "outputId": "efd2ba93-189b-4694-9f93-865eed13cc38"
      },
      "outputs": [
        {
          "output_type": "stream",
          "name": "stdout",
          "text": [
            "Test MSE: 511573.84\n",
            "Test MAE: 609.02\n",
            "Test R²: 0.01\n"
          ]
        }
      ],
      "source": [
        "model.eval()\n",
        "all_targets = []\n",
        "all_predictions = []\n",
        "\n",
        "with torch.no_grad():\n",
        "    for hr_seq_batch, static_feat_batch, y_batch in test_loader:\n",
        "        hr_seq_batch = hr_seq_batch.to(device)\n",
        "        static_feat_batch = static_feat_batch.to(device)\n",
        "\n",
        "        outputs = model(hr_seq_batch, static_feat_batch)\n",
        "\n",
        "        all_targets.extend(y_batch.cpu().numpy())\n",
        "        all_predictions.extend(outputs.cpu().numpy())\n",
        "\n",
        "# Convert to numpy arrays\n",
        "all_targets = np.array(all_targets)\n",
        "all_predictions = np.array(all_predictions)\n",
        "\n",
        "# Compute metrics (e.g., MSE, MAE, R²)\n",
        "from sklearn.metrics import mean_squared_error, mean_absolute_error, r2_score\n",
        "\n",
        "mse = mean_squared_error(all_targets, all_predictions)\n",
        "mae = mean_absolute_error(all_targets, all_predictions)\n",
        "r2 = r2_score(all_targets, all_predictions)\n",
        "\n",
        "print(f\"Test MSE: {mse:.2f}\")\n",
        "print(f\"Test MAE: {mae:.2f}\")\n",
        "print(f\"Test R²: {r2:.2f}\")"
      ]
    },
    {
      "cell_type": "code",
      "source": [
        "# Get a test subject from the TEST SET (not original df)\n",
        "test_subjects = paired_df.iloc[test_idx]  # Only use test_idx subjects!\n",
        "test_subject = test_subjects.sample(42).iloc[0]  # Random test subject\n",
        "\n",
        "print(\"\\n--- Test Subject Info ---\")\n",
        "print(test_subject)\n",
        "\n",
        "# Prepare HR sequence CORRECTLY\n",
        "hr_array = torch.tensor(test_subject['HR'], dtype=torch.float32)  # Shape: (seq_len,)\n",
        "hr_array = hr_array.unsqueeze(-1)  # Add feature dim -> (seq_len, 1)\n",
        "hr_array = hr_array.unsqueeze(0)   # Add batch dim -> (1, seq_len, 1)\n",
        "hr_array = hr_array.to(device)\n",
        "\n",
        "# Prepare static features CORRECTLY\n",
        "static_features = torch.tensor([\n",
        "    test_subject['Age'],\n",
        "    test_subject['Weight'],\n",
        "    test_subject['Height'],\n",
        "    test_subject['Sex']\n",
        "], dtype=torch.float32).unsqueeze(0).to(device)  # Shape: (1, 4)\n",
        "\n",
        "# Verify shapes\n",
        "print(f\"\\nHR array shape: {hr_array.shape}\")  # Should be (1, seq_len, 1)\n",
        "print(f\"Static features shape: {static_features.shape}\")  # Should be (1, 4)\n",
        "\n",
        "# Predict\n",
        "model.eval()\n",
        "with torch.no_grad():\n",
        "    pred_vt = model(hr_array, static_features)\n",
        "\n",
        "print(f\"\\nPredicted VT: {pred_vt.item():.2f}\")\n",
        "print(f\"Actual VT: {test_subject['Average']:.2f}\")"
      ],
      "metadata": {
        "colab": {
          "base_uri": "https://localhost:8080/",
          "height": 211
        },
        "id": "4AG6fBWTBDpf",
        "outputId": "1d4173ac-4c27-49ec-b6ae-81b8e5ad0929"
      },
      "execution_count": null,
      "outputs": [
        {
          "output_type": "error",
          "ename": "NameError",
          "evalue": "name 'paired_df' is not defined",
          "traceback": [
            "\u001b[0;31m---------------------------------------------------------------------------\u001b[0m",
            "\u001b[0;31mNameError\u001b[0m                                 Traceback (most recent call last)",
            "\u001b[0;32m<ipython-input-6-2657984465c2>\u001b[0m in \u001b[0;36m<cell line: 0>\u001b[0;34m()\u001b[0m\n\u001b[1;32m      1\u001b[0m \u001b[0;31m# Get a test subject from the TEST SET (not original df)\u001b[0m\u001b[0;34m\u001b[0m\u001b[0;34m\u001b[0m\u001b[0m\n\u001b[0;32m----> 2\u001b[0;31m \u001b[0mtest_subjects\u001b[0m \u001b[0;34m=\u001b[0m \u001b[0mpaired_df\u001b[0m\u001b[0;34m.\u001b[0m\u001b[0miloc\u001b[0m\u001b[0;34m[\u001b[0m\u001b[0mtest_idx\u001b[0m\u001b[0;34m]\u001b[0m  \u001b[0;31m# Only use test_idx subjects!\u001b[0m\u001b[0;34m\u001b[0m\u001b[0;34m\u001b[0m\u001b[0m\n\u001b[0m\u001b[1;32m      3\u001b[0m \u001b[0mtest_subject\u001b[0m \u001b[0;34m=\u001b[0m \u001b[0mtest_subjects\u001b[0m\u001b[0;34m.\u001b[0m\u001b[0msample\u001b[0m\u001b[0;34m(\u001b[0m\u001b[0;36m42\u001b[0m\u001b[0;34m)\u001b[0m\u001b[0;34m.\u001b[0m\u001b[0miloc\u001b[0m\u001b[0;34m[\u001b[0m\u001b[0;36m0\u001b[0m\u001b[0;34m]\u001b[0m  \u001b[0;31m# Random test subject\u001b[0m\u001b[0;34m\u001b[0m\u001b[0;34m\u001b[0m\u001b[0m\n\u001b[1;32m      4\u001b[0m \u001b[0;34m\u001b[0m\u001b[0m\n\u001b[1;32m      5\u001b[0m \u001b[0mprint\u001b[0m\u001b[0;34m(\u001b[0m\u001b[0;34m\"\\n--- Test Subject Info ---\"\u001b[0m\u001b[0;34m)\u001b[0m\u001b[0;34m\u001b[0m\u001b[0;34m\u001b[0m\u001b[0m\n",
            "\u001b[0;31mNameError\u001b[0m: name 'paired_df' is not defined"
          ]
        }
      ]
    }
  ],
  "metadata": {
    "colab": {
      "provenance": [],
      "gpuType": "T4"
    },
    "kernelspec": {
      "display_name": "Python 3",
      "name": "python3"
    },
    "language_info": {
      "name": "python"
    },
    "accelerator": "GPU"
  },
  "nbformat": 4,
  "nbformat_minor": 0
}