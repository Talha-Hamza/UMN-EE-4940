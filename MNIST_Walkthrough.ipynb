{
  "nbformat": 4,
  "nbformat_minor": 0,
  "metadata": {
    "colab": {
      "provenance": [],
      "gpuType": "T4"
    },
    "kernelspec": {
      "name": "python3",
      "display_name": "Python 3"
    },
    "language_info": {
      "name": "python"
    },
    "accelerator": "GPU"
  },
  "cells": [
    {
      "cell_type": "code",
      "execution_count": null,
      "metadata": {
        "id": "wT_a2frIVIUU"
      },
      "outputs": [],
      "source": [
        "### Imports\n",
        "import torch\n",
        "import torch.nn as nn\n",
        "import torch.optim as optim\n",
        "import torchvision\n",
        "import torchvision.transforms as transforms\n",
        "import matplotlib.pyplot as plt\n"
      ]
    },
    {
      "cell_type": "code",
      "source": [
        "### Dataloading\n",
        "transform = transforms.Compose([\n",
        "    transforms.ToTensor(),\n",
        "    transforms.Normalize((0.5,),(0.5,))\n",
        "])\n",
        "train_dataset = torchvision.datasets.MNIST(\n",
        "    root='./data', train=True, download = True, transform=transform\n",
        "    )\n",
        "test_dataset = torchvision.datasets.MNIST(\n",
        "    root='./data', train=False, download = True, transform=transform\n",
        "    )\n",
        "\n",
        "train_loader = torch.utils.data.DataLoader(\n",
        "    train_dataset, batch_size = 64, shuffle = True\n",
        ")\n",
        "test_loader = torch.utils.data.DataLoader(\n",
        "    test_dataset, batch_size = 64, shuffle = False\n",
        ")"
      ],
      "metadata": {
        "colab": {
          "base_uri": "https://localhost:8080/"
        },
        "id": "MPs6vkE_XJ-C",
        "outputId": "cfb99be0-4f23-453c-9090-a7199662e278"
      },
      "execution_count": null,
      "outputs": [
        {
          "output_type": "stream",
          "name": "stdout",
          "text": [
            "Downloading http://yann.lecun.com/exdb/mnist/train-images-idx3-ubyte.gz\n",
            "Failed to download (trying next):\n",
            "HTTP Error 404: Not Found\n",
            "\n",
            "Downloading https://ossci-datasets.s3.amazonaws.com/mnist/train-images-idx3-ubyte.gz\n",
            "Downloading https://ossci-datasets.s3.amazonaws.com/mnist/train-images-idx3-ubyte.gz to ./data/MNIST/raw/train-images-idx3-ubyte.gz\n"
          ]
        },
        {
          "output_type": "stream",
          "name": "stderr",
          "text": [
            "100%|██████████| 9.91M/9.91M [00:00<00:00, 18.1MB/s]\n"
          ]
        },
        {
          "output_type": "stream",
          "name": "stdout",
          "text": [
            "Extracting ./data/MNIST/raw/train-images-idx3-ubyte.gz to ./data/MNIST/raw\n",
            "\n",
            "Downloading http://yann.lecun.com/exdb/mnist/train-labels-idx1-ubyte.gz\n",
            "Failed to download (trying next):\n",
            "HTTP Error 404: Not Found\n",
            "\n",
            "Downloading https://ossci-datasets.s3.amazonaws.com/mnist/train-labels-idx1-ubyte.gz\n",
            "Downloading https://ossci-datasets.s3.amazonaws.com/mnist/train-labels-idx1-ubyte.gz to ./data/MNIST/raw/train-labels-idx1-ubyte.gz\n"
          ]
        },
        {
          "output_type": "stream",
          "name": "stderr",
          "text": [
            "100%|██████████| 28.9k/28.9k [00:00<00:00, 506kB/s]\n"
          ]
        },
        {
          "output_type": "stream",
          "name": "stdout",
          "text": [
            "Extracting ./data/MNIST/raw/train-labels-idx1-ubyte.gz to ./data/MNIST/raw\n",
            "\n",
            "Downloading http://yann.lecun.com/exdb/mnist/t10k-images-idx3-ubyte.gz\n",
            "Failed to download (trying next):\n",
            "HTTP Error 404: Not Found\n",
            "\n",
            "Downloading https://ossci-datasets.s3.amazonaws.com/mnist/t10k-images-idx3-ubyte.gz\n",
            "Downloading https://ossci-datasets.s3.amazonaws.com/mnist/t10k-images-idx3-ubyte.gz to ./data/MNIST/raw/t10k-images-idx3-ubyte.gz\n"
          ]
        },
        {
          "output_type": "stream",
          "name": "stderr",
          "text": [
            "100%|██████████| 1.65M/1.65M [00:00<00:00, 4.54MB/s]\n"
          ]
        },
        {
          "output_type": "stream",
          "name": "stdout",
          "text": [
            "Extracting ./data/MNIST/raw/t10k-images-idx3-ubyte.gz to ./data/MNIST/raw\n",
            "\n",
            "Downloading http://yann.lecun.com/exdb/mnist/t10k-labels-idx1-ubyte.gz\n",
            "Failed to download (trying next):\n",
            "HTTP Error 404: Not Found\n",
            "\n",
            "Downloading https://ossci-datasets.s3.amazonaws.com/mnist/t10k-labels-idx1-ubyte.gz\n",
            "Downloading https://ossci-datasets.s3.amazonaws.com/mnist/t10k-labels-idx1-ubyte.gz to ./data/MNIST/raw/t10k-labels-idx1-ubyte.gz\n"
          ]
        },
        {
          "output_type": "stream",
          "name": "stderr",
          "text": [
            "100%|██████████| 4.54k/4.54k [00:00<00:00, 4.24MB/s]"
          ]
        },
        {
          "output_type": "stream",
          "name": "stdout",
          "text": [
            "Extracting ./data/MNIST/raw/t10k-labels-idx1-ubyte.gz to ./data/MNIST/raw\n",
            "\n"
          ]
        },
        {
          "output_type": "stream",
          "name": "stderr",
          "text": [
            "\n"
          ]
        }
      ]
    },
    {
      "cell_type": "code",
      "source": [
        "### Architecture Definition\n",
        "class SimpleCNN(nn.Module):\n",
        "  def __init__(self):\n",
        "    super(SimpleCNN, self).__init__()\n",
        "    self.conv1 = nn.Conv2d(1, 16, kernel_size = 3, padding = 1) # takes in 1 input channel (since MNIST images are grayscale) and outputs 16 feature maps\n",
        "    self.pool = nn.MaxPool2d(kernel_size = 2, stride = 2) # a max pooling layer with a filter of size 2x2 and a stride of 2.\n",
        "    self.conv2 = nn.Conv2d(16, 32, kernel_size = 3, padding = 1) # takes 16 input channels (from the previous layer) and outputs 32 feature maps.\n",
        "    self.fc1 = nn.Linear(32*7*7, 128)\n",
        "    self.fc2 = nn.Linear(128, 10)\n",
        "\n",
        "  def forward(self, x):\n",
        "    x = self.pool(torch.relu(self.conv1(x)))\n",
        "    x = self.pool(torch.relu(self.conv2(x)))\n",
        "    x = x.view(-1, 32 * 7 * 7)\n",
        "    x = torch.relu(self.fc1(x))\n",
        "    x = self.fc2(x)\n",
        "    return x\n",
        "\n",
        "if torch.cuda.is_available():\n",
        "    device = torch.device(\"cuda\")\n",
        "else:\n",
        "    device = torch.device(\"cpu\")\n",
        "print(device)\n",
        "model = SimpleCNN().to(device)\n",
        "print(model)"
      ],
      "metadata": {
        "colab": {
          "base_uri": "https://localhost:8080/"
        },
        "id": "Px9Zlv8KXxy2",
        "outputId": "9d9cbc5d-aa26-4716-eeac-3883786161ed"
      },
      "execution_count": null,
      "outputs": [
        {
          "output_type": "stream",
          "name": "stdout",
          "text": [
            "cuda\n",
            "SimpleCNN(\n",
            "  (conv1): Conv2d(1, 16, kernel_size=(3, 3), stride=(1, 1), padding=(1, 1))\n",
            "  (pool): MaxPool2d(kernel_size=2, stride=2, padding=0, dilation=1, ceil_mode=False)\n",
            "  (conv2): Conv2d(16, 32, kernel_size=(3, 3), stride=(1, 1), padding=(1, 1))\n",
            "  (fc1): Linear(in_features=1568, out_features=128, bias=True)\n",
            "  (fc2): Linear(in_features=128, out_features=10, bias=True)\n",
            ")\n"
          ]
        }
      ]
    },
    {
      "cell_type": "code",
      "source": [
        "criterion = nn.CrossEntropyLoss()\n",
        "optimizer = optim.Adam(model.parameters(), lr = 0.001)\n",
        "\n",
        "epochs = 10\n",
        "for epoch in range(epochs):\n",
        "  running_loss = 0.0\n",
        "  for images, labels in train_loader:\n",
        "    images, labels = images.to(device), labels.to(device)\n",
        "    optimizer.zero_grad()\n",
        "    outputs = model(images)\n",
        "    loss = criterion(outputs, labels)\n",
        "    loss.backward()\n",
        "    optimizer.step()\n",
        "\n",
        "    running_loss += loss.item()\n",
        "  print(f\"Epoch [{epoch + 1}/{epochs}], Loss: {running_loss/len(train_loader): 4f}\")"
      ],
      "metadata": {
        "colab": {
          "base_uri": "https://localhost:8080/"
        },
        "id": "h3zPeTr2Y7nm",
        "outputId": "9538f623-01e3-4aa9-f395-80d7bd6283e4"
      },
      "execution_count": null,
      "outputs": [
        {
          "output_type": "stream",
          "name": "stdout",
          "text": [
            "Epoch [1/10], Loss:  0.191731\n",
            "Epoch [2/10], Loss:  0.052720\n",
            "Epoch [3/10], Loss:  0.036508\n",
            "Epoch [4/10], Loss:  0.028369\n",
            "Epoch [5/10], Loss:  0.021977\n",
            "Epoch [6/10], Loss:  0.016491\n",
            "Epoch [7/10], Loss:  0.012492\n",
            "Epoch [8/10], Loss:  0.010984\n",
            "Epoch [9/10], Loss:  0.009501\n",
            "Epoch [10/10], Loss:  0.008709\n"
          ]
        }
      ]
    },
    {
      "cell_type": "code",
      "source": [
        "model.eval()\n",
        "correct = 0\n",
        "total = 0\n",
        "with torch.no_grad():\n",
        "  for images, labels in test_loader:\n",
        "    images, labels = images.to(device), labels.to(device)\n",
        "\n",
        "    # display image with label\n",
        "    # plt.imshow(images[0].cpu().numpy().squeeze(), cmap='gray')\n",
        "    # plt.show()\n",
        "    # print(f\"Label: {labels[0].item()}\")\n",
        "\n",
        "    outputs = model(images)\n",
        "    _, predicted = torch.max(outputs, 1)\n",
        "    print(f\"Predicted: {predicted[0].item()}\")\n",
        "    total += labels.size(0)\n",
        "    correct += (predicted == labels).sum().item()\n",
        "\n",
        "  print(f\"Test Accuracy: {100 * correct / total:.2f}%\")\n"
      ],
      "metadata": {
        "colab": {
          "base_uri": "https://localhost:8080/"
        },
        "id": "xSjYbnCwZmzy",
        "outputId": "52a09f6a-c5aa-4cf0-8656-5ea0b43ae254"
      },
      "execution_count": null,
      "outputs": [
        {
          "output_type": "stream",
          "name": "stdout",
          "text": [
            "Predicted: 7\n",
            "Predicted: 7\n",
            "Predicted: 8\n",
            "Predicted: 0\n",
            "Predicted: 2\n",
            "Predicted: 9\n",
            "Predicted: 6\n",
            "Predicted: 9\n",
            "Predicted: 2\n",
            "Predicted: 3\n",
            "Predicted: 1\n",
            "Predicted: 0\n",
            "Predicted: 1\n",
            "Predicted: 7\n",
            "Predicted: 0\n",
            "Predicted: 7\n",
            "Predicted: 4\n",
            "Predicted: 9\n",
            "Predicted: 9\n",
            "Predicted: 7\n",
            "Predicted: 1\n",
            "Predicted: 6\n",
            "Predicted: 0\n",
            "Predicted: 3\n",
            "Predicted: 6\n",
            "Predicted: 3\n",
            "Predicted: 8\n",
            "Predicted: 1\n",
            "Predicted: 7\n",
            "Predicted: 3\n",
            "Predicted: 4\n",
            "Predicted: 2\n",
            "Predicted: 7\n",
            "Predicted: 2\n",
            "Predicted: 2\n",
            "Predicted: 7\n",
            "Predicted: 0\n",
            "Predicted: 4\n",
            "Predicted: 2\n",
            "Predicted: 2\n",
            "Predicted: 3\n",
            "Predicted: 3\n",
            "Predicted: 1\n",
            "Predicted: 2\n",
            "Predicted: 1\n",
            "Predicted: 1\n",
            "Predicted: 0\n",
            "Predicted: 9\n",
            "Predicted: 8\n",
            "Predicted: 7\n",
            "Predicted: 9\n",
            "Predicted: 1\n",
            "Predicted: 7\n",
            "Predicted: 9\n",
            "Predicted: 3\n",
            "Predicted: 4\n",
            "Predicted: 0\n",
            "Predicted: 1\n",
            "Predicted: 6\n",
            "Predicted: 5\n",
            "Predicted: 9\n",
            "Predicted: 2\n",
            "Predicted: 5\n",
            "Predicted: 1\n",
            "Predicted: 8\n",
            "Predicted: 6\n",
            "Predicted: 9\n",
            "Predicted: 3\n",
            "Predicted: 3\n",
            "Predicted: 6\n",
            "Predicted: 9\n",
            "Predicted: 4\n",
            "Predicted: 8\n",
            "Predicted: 0\n",
            "Predicted: 7\n",
            "Predicted: 7\n",
            "Predicted: 1\n",
            "Predicted: 3\n",
            "Predicted: 0\n",
            "Predicted: 5\n",
            "Predicted: 2\n",
            "Predicted: 8\n",
            "Predicted: 3\n",
            "Predicted: 4\n",
            "Predicted: 8\n",
            "Predicted: 4\n",
            "Predicted: 3\n",
            "Predicted: 6\n",
            "Predicted: 5\n",
            "Predicted: 4\n",
            "Predicted: 3\n",
            "Predicted: 3\n",
            "Predicted: 4\n",
            "Predicted: 0\n",
            "Predicted: 0\n",
            "Predicted: 8\n",
            "Predicted: 4\n",
            "Predicted: 7\n",
            "Predicted: 3\n",
            "Predicted: 8\n",
            "Predicted: 0\n",
            "Predicted: 8\n",
            "Predicted: 2\n",
            "Predicted: 9\n",
            "Predicted: 9\n",
            "Predicted: 1\n",
            "Predicted: 9\n",
            "Predicted: 1\n",
            "Predicted: 2\n",
            "Predicted: 1\n",
            "Predicted: 3\n",
            "Predicted: 3\n",
            "Predicted: 0\n",
            "Predicted: 1\n",
            "Predicted: 7\n",
            "Predicted: 9\n",
            "Predicted: 1\n",
            "Predicted: 4\n",
            "Predicted: 8\n",
            "Predicted: 9\n",
            "Predicted: 9\n",
            "Predicted: 7\n",
            "Predicted: 5\n",
            "Predicted: 8\n",
            "Predicted: 3\n",
            "Predicted: 4\n",
            "Predicted: 7\n",
            "Predicted: 1\n",
            "Predicted: 5\n",
            "Predicted: 6\n",
            "Predicted: 2\n",
            "Predicted: 8\n",
            "Predicted: 0\n",
            "Predicted: 7\n",
            "Predicted: 0\n",
            "Predicted: 9\n",
            "Predicted: 2\n",
            "Predicted: 1\n",
            "Predicted: 4\n",
            "Predicted: 6\n",
            "Predicted: 4\n",
            "Predicted: 7\n",
            "Predicted: 8\n",
            "Predicted: 4\n",
            "Predicted: 9\n",
            "Predicted: 8\n",
            "Predicted: 4\n",
            "Predicted: 9\n",
            "Predicted: 9\n",
            "Predicted: 3\n",
            "Predicted: 5\n",
            "Predicted: 3\n",
            "Predicted: 4\n",
            "Predicted: 4\n",
            "Predicted: 9\n",
            "Predicted: 8\n",
            "Predicted: 1\n",
            "Test Accuracy: 99.21%\n"
          ]
        }
      ]
    }
  ]
}